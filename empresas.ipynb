{
 "cells": [
  {
   "cell_type": "markdown",
   "id": "d3ded677-b363-4032-a126-83ff2dd4b362",
   "metadata": {},
   "source": [
    "## Análise explanatória Empresas Ativas (EMPRESAS)"
   ]
  },
  {
   "cell_type": "markdown",
   "id": "7da5c6e6-25e0-45ec-a3d2-f93037b520b3",
   "metadata": {},
   "source": [
    "#### Realização de uma análise explanatória detalhada dos dados das empresas ativas da cidade do Recife, verificando possíveis inconsistencias ou duplicações nos registros.\n",
    "\n",
    "##### 🟩🟩 Importando Bibliotecas"
   ]
  },
  {
   "cell_type": "code",
   "execution_count": 2,
   "id": "9d4ca095-7b1b-4176-adf8-96ffc8755893",
   "metadata": {},
   "outputs": [],
   "source": [
    "import pandas as pd\n",
    "import numpy as np\n",
    "import os"
   ]
  },
  {
   "cell_type": "code",
   "execution_count": 3,
   "id": "7baded4e-c8c5-4bd0-b669-30089f8b6cfd",
   "metadata": {},
   "outputs": [
    {
     "name": "stdout",
     "output_type": "stream",
     "text": [
      "Arquivo CSV 'EMPRESAS.csv' carregado com sucesso!\n"
     ]
    }
   ],
   "source": [
    "# Diretório onde os arquivos CSV estão localizados\n",
    "CSV_FOLDER = r'./datasets/CSV_Separados'\n",
    "\n",
    "# Nome do arquivo CSV que você quer carregar\n",
    "CSV_FILE = 'EMPRESAS.csv'  # Substitua pelo nome do arquivo gerado\n",
    "\n",
    "# Caminho completo do arquivo CSV\n",
    "csv_path = os.path.join(CSV_FOLDER, CSV_FILE)\n",
    "\n",
    "# Verificar se o arquivo existe antes de tentar carregá-lo\n",
    "if os.path.exists(csv_path):\n",
    "    # Carregar o arquivo CSV como DataFrame\n",
    "    df = pd.read_csv(csv_path)\n",
    "    print(f\"Arquivo CSV '{CSV_FILE}' carregado com sucesso!\")\n",
    "else:\n",
    "    print(f\"Erro: O arquivo '{csv_path}' não foi encontrado.\")\n",
    "\n",
    "pd.set_option('display.max_columns', None)  # Exibe todas as colunas\n",
    "pd.set_option('display.max_colwidth', None)  # Exibe o conteúdo completo de cada célula\n",
    "pd.set_option('display.width', None)  # Ajuste de largura para evitar quebra de linha"
   ]
  },
  {
   "cell_type": "code",
   "execution_count": 4,
   "id": "15caeb18-d50a-47bf-a9ab-8103675861d2",
   "metadata": {},
   "outputs": [
    {
     "data": {
      "text/html": [
       "<div>\n",
       "<style scoped>\n",
       "    .dataframe tbody tr th:only-of-type {\n",
       "        vertical-align: middle;\n",
       "    }\n",
       "\n",
       "    .dataframe tbody tr th {\n",
       "        vertical-align: top;\n",
       "    }\n",
       "\n",
       "    .dataframe thead th {\n",
       "        text-align: right;\n",
       "    }\n",
       "</style>\n",
       "<table border=\"1\" class=\"dataframe\">\n",
       "  <thead>\n",
       "    <tr style=\"text-align: right;\">\n",
       "      <th></th>\n",
       "      <th>CNPJ BASICO</th>\n",
       "      <th>RAZAO SOCIAL / NOME EMPRESARIAL</th>\n",
       "      <th>NATUREZA JURIDICA</th>\n",
       "      <th>QUALIFICACAO DO SOCIO</th>\n",
       "      <th>CAPITAL SOCIAL DA EMPRESA</th>\n",
       "      <th>PORTE DA EMPRESA</th>\n",
       "      <th>ENTE FEDERATIVO RESPONSAVEL</th>\n",
       "    </tr>\n",
       "  </thead>\n",
       "  <tbody>\n",
       "    <tr>\n",
       "      <th>0</th>\n",
       "      <td>0</td>\n",
       "      <td>BANCO DO BRASIL SA</td>\n",
       "      <td>SOCIEDADE DE ECONOMIA MISTA</td>\n",
       "      <td>DIRETOR</td>\n",
       "      <td>120000000000,00</td>\n",
       "      <td>DEMAIS</td>\n",
       "      <td>NaN</td>\n",
       "    </tr>\n",
       "    <tr>\n",
       "      <th>1</th>\n",
       "      <td>633</td>\n",
       "      <td>INSTITUTO QUALIDADE NO ENSINO</td>\n",
       "      <td>ASSOCIAÇÃO PRIVADA</td>\n",
       "      <td>PRESIDENTE</td>\n",
       "      <td>0,00</td>\n",
       "      <td>DEMAIS</td>\n",
       "      <td>NaN</td>\n",
       "    </tr>\n",
       "    <tr>\n",
       "      <th>2</th>\n",
       "      <td>802</td>\n",
       "      <td>HC PNEUS S/A</td>\n",
       "      <td>SOCIEDADE ANÔNIMA FECHADA</td>\n",
       "      <td>DIRETOR</td>\n",
       "      <td>204418998,00</td>\n",
       "      <td>DEMAIS</td>\n",
       "      <td>NaN</td>\n",
       "    </tr>\n",
       "    <tr>\n",
       "      <th>3</th>\n",
       "      <td>2927</td>\n",
       "      <td>TRANSMETA TRANSPORTES RODOVIARIOS DE CARGAS LTDA</td>\n",
       "      <td>SOCIEDADE EMPRESÁRIA LIMITADA</td>\n",
       "      <td>SÓCIO-ADMINISTRADOR</td>\n",
       "      <td>800000,00</td>\n",
       "      <td>DEMAIS</td>\n",
       "      <td>NaN</td>\n",
       "    </tr>\n",
       "    <tr>\n",
       "      <th>4</th>\n",
       "      <td>5050</td>\n",
       "      <td>INTEGRE DO BRASIL S/A INDUSTRIA COM IMP EXP TRANSPORTES</td>\n",
       "      <td>SOCIEDADE ANÔNIMA FECHADA</td>\n",
       "      <td>PRESIDENTE</td>\n",
       "      <td>0,00</td>\n",
       "      <td>DEMAIS</td>\n",
       "      <td>NaN</td>\n",
       "    </tr>\n",
       "  </tbody>\n",
       "</table>\n",
       "</div>"
      ],
      "text/plain": [
       "   CNPJ BASICO                          RAZAO SOCIAL / NOME EMPRESARIAL  \\\n",
       "0            0                                       BANCO DO BRASIL SA   \n",
       "1          633                            INSTITUTO QUALIDADE NO ENSINO   \n",
       "2          802                                             HC PNEUS S/A   \n",
       "3         2927         TRANSMETA TRANSPORTES RODOVIARIOS DE CARGAS LTDA   \n",
       "4         5050  INTEGRE DO BRASIL S/A INDUSTRIA COM IMP EXP TRANSPORTES   \n",
       "\n",
       "               NATUREZA JURIDICA QUALIFICACAO DO SOCIO  \\\n",
       "0    SOCIEDADE DE ECONOMIA MISTA               DIRETOR   \n",
       "1             ASSOCIAÇÃO PRIVADA            PRESIDENTE   \n",
       "2      SOCIEDADE ANÔNIMA FECHADA               DIRETOR   \n",
       "3  SOCIEDADE EMPRESÁRIA LIMITADA   SÓCIO-ADMINISTRADOR   \n",
       "4      SOCIEDADE ANÔNIMA FECHADA            PRESIDENTE   \n",
       "\n",
       "  CAPITAL SOCIAL DA EMPRESA PORTE DA EMPRESA ENTE FEDERATIVO RESPONSAVEL  \n",
       "0           120000000000,00           DEMAIS                         NaN  \n",
       "1                      0,00           DEMAIS                         NaN  \n",
       "2              204418998,00           DEMAIS                         NaN  \n",
       "3                 800000,00           DEMAIS                         NaN  \n",
       "4                      0,00           DEMAIS                         NaN  "
      ]
     },
     "execution_count": 4,
     "metadata": {},
     "output_type": "execute_result"
    }
   ],
   "source": [
    "df.head(5)"
   ]
  },
  {
   "cell_type": "markdown",
   "id": "569b1d5a-d306-4fc2-ab46-9fd6e6d4d808",
   "metadata": {},
   "source": [
    "##### 🟡 ENTE FEDERATIVO RESPONSÁVEL tem nulls ...vamos olhar melhor"
   ]
  },
  {
   "cell_type": "code",
   "execution_count": 5,
   "id": "4ec4c698-586d-457e-a0c0-f9ea398983ee",
   "metadata": {},
   "outputs": [
    {
     "name": "stdout",
     "output_type": "stream",
     "text": [
      "[nan 'UNIÃO' 'PERNAMBUCO' 'RECIFE - PE' 'PIAUI' 'MARAIAL - PE'\n",
      " 'RIO GRANDE DO SUL' 'ALAGOAS']\n"
     ]
    }
   ],
   "source": [
    "valores_unicos = df['ENTE FEDERATIVO RESPONSAVEL'].unique()\n",
    "print(valores_unicos)"
   ]
  },
  {
   "cell_type": "markdown",
   "id": "ea284735-e50a-4517-9505-9005e82721c0",
   "metadata": {},
   "source": [
    "##### 🟩🟩 Verificando a quantidade de nulos por coluna (mostrando apenas as colunas com nulos)\n"
   ]
  },
  {
   "cell_type": "code",
   "execution_count": 26,
   "id": "25b58605-a277-4870-97c0-8484de30993c",
   "metadata": {},
   "outputs": [
    {
     "name": "stdout",
     "output_type": "stream",
     "text": [
      "QUALIFICACAO DO SOCIO              33\n",
      "ENTE FEDERATIVO RESPONSAVEL    532238\n",
      "dtype: int64\n"
     ]
    }
   ],
   "source": [
    "# Contar os valores nulos por coluna\n",
    "nulos_por_coluna = df.isna().sum()\n",
    "\n",
    "# Filtrar as colunas com valores nulos (maior que 0)\n",
    "colunas_com_nulos = nulos_por_coluna[nulos_por_coluna > 0]\n",
    "\n",
    "# Exibir as colunas com valores nulos\n",
    "print(colunas_com_nulos)\n",
    "\n"
   ]
  },
  {
   "cell_type": "markdown",
   "id": "08743311-1cd4-4d5d-8d5c-4b737300d85a",
   "metadata": {},
   "source": [
    "##### 🟩🟩 Verificando dados duplicados "
   ]
  },
  {
   "cell_type": "code",
   "execution_count": 29,
   "id": "692d0b7d-f061-45de-9a82-5850a1dcdd79",
   "metadata": {},
   "outputs": [
    {
     "name": "stdout",
     "output_type": "stream",
     "text": [
      "Empty DataFrame\n",
      "Columns: [CNPJ BASICO, RAZAO SOCIAL / NOME EMPRESARIAL, NATUREZA JURIDICA, QUALIFICACAO DO SOCIO, CAPITAL SOCIAL DA EMPRESA, PORTE DA EMPRESA, ENTE FEDERATIVO RESPONSAVEL]\n",
      "Index: []\n"
     ]
    }
   ],
   "source": [
    "duplicatas = df.duplicated()\n",
    "\n",
    "# Exibir as linhas duplicadas (se houver)\n",
    "print(df[duplicatas])"
   ]
  },
  {
   "cell_type": "markdown",
   "id": "80890acf-34f5-42a7-a4e2-35017bf966b1",
   "metadata": {},
   "source": [
    "##### Não há dados duplicados na tabela empresas\n"
   ]
  },
  {
   "cell_type": "markdown",
   "id": "ad9ae4ab-a9c7-4d7b-b3f5-ca86e2a87cb1",
   "metadata": {},
   "source": [
    "##### 🟩🟩 Verificando os tipos dos dados "
   ]
  },
  {
   "cell_type": "code",
   "execution_count": 32,
   "id": "ce31345e-63ab-4303-b602-75907123bf1e",
   "metadata": {},
   "outputs": [
    {
     "name": "stdout",
     "output_type": "stream",
     "text": [
      "<class 'pandas.core.frame.DataFrame'>\n",
      "RangeIndex: 532580 entries, 0 to 532579\n",
      "Data columns (total 7 columns):\n",
      " #   Column                           Non-Null Count   Dtype \n",
      "---  ------                           --------------   ----- \n",
      " 0   CNPJ BASICO                      532580 non-null  int64 \n",
      " 1   RAZAO SOCIAL / NOME EMPRESARIAL  532580 non-null  object\n",
      " 2   NATUREZA JURIDICA                532580 non-null  object\n",
      " 3   QUALIFICACAO DO SOCIO            532547 non-null  object\n",
      " 4   CAPITAL SOCIAL DA EMPRESA        532580 non-null  object\n",
      " 5   PORTE DA EMPRESA                 532580 non-null  object\n",
      " 6   ENTE FEDERATIVO RESPONSAVEL      342 non-null     object\n",
      "dtypes: int64(1), object(6)\n",
      "memory usage: 28.4+ MB\n"
     ]
    }
   ],
   "source": [
    "df.info()"
   ]
  },
  {
   "cell_type": "markdown",
   "id": "41cecc23-ac4f-4018-a16a-eb24726ed866",
   "metadata": {},
   "source": [
    "##### 🟡 Em uma analise por data type é preciso ajustar 'CNPJ BASICO' para object pois ele não possui a função de soma visto que se trata de códigos"
   ]
  },
  {
   "cell_type": "markdown",
   "id": "caa034b7-ad92-4e0d-bf77-be0ef7890e9a",
   "metadata": {},
   "source": [
    "##### 🟩🟩 Alterando Dtype para object "
   ]
  },
  {
   "cell_type": "code",
   "execution_count": 35,
   "id": "b6740db5-df6e-4c3a-9a83-8aa875bfb2e4",
   "metadata": {},
   "outputs": [
    {
     "data": {
      "text/plain": [
       "CNPJ BASICO                        object\n",
       "RAZAO SOCIAL / NOME EMPRESARIAL    object\n",
       "NATUREZA JURIDICA                  object\n",
       "QUALIFICACAO DO SOCIO              object\n",
       "CAPITAL SOCIAL DA EMPRESA          object\n",
       "PORTE DA EMPRESA                   object\n",
       "ENTE FEDERATIVO RESPONSAVEL        object\n",
       "dtype: object"
      ]
     },
     "execution_count": 35,
     "metadata": {},
     "output_type": "execute_result"
    }
   ],
   "source": [
    "conversao = ['CNPJ BASICO']\n",
    "\n",
    "# Converter as colunas específicas de 'int' para 'object'\n",
    "df[conversao] = df[conversao].astype('object')\n",
    "\n",
    "# Verificar os tipos de dados após a conversão\n",
    "df.dtypes"
   ]
  },
  {
   "cell_type": "markdown",
   "id": "9f166568-cdf8-48a0-ae80-d99bfec2ce39",
   "metadata": {},
   "source": [
    "##### 🟩🟩 Salvando o dataframe EMPRESAS"
   ]
  },
  {
   "cell_type": "code",
   "execution_count": 41,
   "id": "5ec7617a-155e-4156-ba95-f916dd3d198c",
   "metadata": {},
   "outputs": [],
   "source": [
    "# Pasta para salvar o arquivo\n",
    "OUTPUT_FOLDER = r'C:\\Users\\carli\\Desktop\\EmpresasAtivas\\datasets\\CSV_Tratados'\n",
    "os.makedirs(OUTPUT_FOLDER, exist_ok=True)"
   ]
  },
  {
   "cell_type": "code",
   "execution_count": 39,
   "id": "52359227-7f8c-4d15-b8e3-fb24ba4f6f93",
   "metadata": {},
   "outputs": [],
   "source": [
    "# Salva o DataFrame em formato CSV com separador e controle de casas decimais\n",
    "df.to_csv('C:\\\\Users\\\\carli\\\\Desktop\\\\EmpresasAtivas\\\\datasets\\\\CSV_Tratados\\\\empresas.csv', sep=';', decimal=',', encoding='UTF-8')\n",
    "print('Salvo com sucesso')"
   ]
  }
 ],
 "metadata": {
  "kernelspec": {
   "display_name": ".venv",
   "language": "python",
   "name": "python3"
  },
  "language_info": {
   "codemirror_mode": {
    "name": "ipython",
    "version": 3
   },
   "file_extension": ".py",
   "mimetype": "text/x-python",
   "name": "python",
   "nbconvert_exporter": "python",
   "pygments_lexer": "ipython3",
   "version": "3.12.5"
  }
 },
 "nbformat": 4,
 "nbformat_minor": 5
}
