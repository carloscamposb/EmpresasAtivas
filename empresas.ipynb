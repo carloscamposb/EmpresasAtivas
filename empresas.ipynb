{
 "cells": [
  {
   "cell_type": "markdown",
   "id": "d3ded677-b363-4032-a126-83ff2dd4b362",
   "metadata": {},
   "source": [
    "## Análise explanatória Empresas Ativas (EMPRESAS)"
   ]
  },
  {
   "cell_type": "markdown",
   "id": "7da5c6e6-25e0-45ec-a3d2-f93037b520b3",
   "metadata": {},
   "source": [
    "#### Realização de uma análise explanatória detalhada dos dados das empresas ativas da cidade do Recife, verificando possíveis inconsistencias ou duplicações nos registros.\n",
    "\n",
    "##### 🟩🟩 Importando Bibliotecas"
   ]
  },
  {
   "cell_type": "code",
   "execution_count": 20,
   "id": "9d4ca095-7b1b-4176-adf8-96ffc8755893",
   "metadata": {},
   "outputs": [],
   "source": [
    "import pandas as pd\n",
    "import numpy as np\n",
    "import os"
   ]
  },
  {
   "cell_type": "code",
   "execution_count": 21,
   "id": "7baded4e-c8c5-4bd0-b669-30089f8b6cfd",
   "metadata": {},
   "outputs": [
    {
     "name": "stdout",
     "output_type": "stream",
     "text": [
      "Arquivo CSV 'EMPRESAS.csv' carregado com sucesso!\n"
     ]
    }
   ],
   "source": [
    "# Diretório onde os arquivos CSV estão localizados\n",
    "CSV_FOLDER = r'./datasets/CSV_Separados'\n",
    "\n",
    "# Nome do arquivo CSV que você quer carregar\n",
    "CSV_FILE = 'EMPRESAS.csv'  # Substitua pelo nome do arquivo gerado\n",
    "\n",
    "# Caminho completo do arquivo CSV\n",
    "csv_path = os.path.join(CSV_FOLDER, CSV_FILE)\n",
    "\n",
    "# Verificar se o arquivo existe antes de tentar carregá-lo\n",
    "if os.path.exists(csv_path):\n",
    "    # Carregar o arquivo CSV como DataFrame\n",
    "    df = pd.read_csv(csv_path)\n",
    "    print(f\"Arquivo CSV '{CSV_FILE}' carregado com sucesso!\")\n",
    "else:\n",
    "    print(f\"Erro: O arquivo '{csv_path}' não foi encontrado.\")\n",
    "\n",
    "pd.set_option('display.max_columns', None)  # Exibe todas as colunas\n",
    "pd.set_option('display.max_colwidth', None)  # Exibe o conteúdo completo de cada célula\n",
    "pd.set_option('display.width', None)  # Ajuste de largura para evitar quebra de linha"
   ]
  },
  {
   "cell_type": "code",
   "execution_count": 22,
   "id": "15caeb18-d50a-47bf-a9ab-8103675861d2",
   "metadata": {},
   "outputs": [
    {
     "data": {
      "text/html": [
       "<div>\n",
       "<style scoped>\n",
       "    .dataframe tbody tr th:only-of-type {\n",
       "        vertical-align: middle;\n",
       "    }\n",
       "\n",
       "    .dataframe tbody tr th {\n",
       "        vertical-align: top;\n",
       "    }\n",
       "\n",
       "    .dataframe thead th {\n",
       "        text-align: right;\n",
       "    }\n",
       "</style>\n",
       "<table border=\"1\" class=\"dataframe\">\n",
       "  <thead>\n",
       "    <tr style=\"text-align: right;\">\n",
       "      <th></th>\n",
       "      <th>CNPJ BASICO</th>\n",
       "      <th>RAZAO SOCIAL / NOME EMPRESARIAL</th>\n",
       "      <th>NATUREZA JURIDICA</th>\n",
       "      <th>QUALIFICACAO DO SOCIO</th>\n",
       "      <th>CAPITAL SOCIAL DA EMPRESA</th>\n",
       "      <th>PORTE DA EMPRESA</th>\n",
       "      <th>ENTE FEDERATIVO RESPONSAVEL</th>\n",
       "    </tr>\n",
       "  </thead>\n",
       "  <tbody>\n",
       "    <tr>\n",
       "      <th>0</th>\n",
       "      <td>0</td>\n",
       "      <td>BANCO DO BRASIL SA</td>\n",
       "      <td>SOCIEDADE DE ECONOMIA MISTA</td>\n",
       "      <td>DIRETOR</td>\n",
       "      <td>120000000000,00</td>\n",
       "      <td>DEMAIS</td>\n",
       "      <td>NaN</td>\n",
       "    </tr>\n",
       "    <tr>\n",
       "      <th>1</th>\n",
       "      <td>633</td>\n",
       "      <td>INSTITUTO QUALIDADE NO ENSINO</td>\n",
       "      <td>ASSOCIAÇÃO PRIVADA</td>\n",
       "      <td>PRESIDENTE</td>\n",
       "      <td>0,00</td>\n",
       "      <td>DEMAIS</td>\n",
       "      <td>NaN</td>\n",
       "    </tr>\n",
       "    <tr>\n",
       "      <th>2</th>\n",
       "      <td>802</td>\n",
       "      <td>HC PNEUS S/A</td>\n",
       "      <td>SOCIEDADE ANÔNIMA FECHADA</td>\n",
       "      <td>DIRETOR</td>\n",
       "      <td>204418998,00</td>\n",
       "      <td>DEMAIS</td>\n",
       "      <td>NaN</td>\n",
       "    </tr>\n",
       "    <tr>\n",
       "      <th>3</th>\n",
       "      <td>2927</td>\n",
       "      <td>TRANSMETA TRANSPORTES RODOVIARIOS DE CARGAS LTDA</td>\n",
       "      <td>SOCIEDADE EMPRESÁRIA LIMITADA</td>\n",
       "      <td>SÓCIO-ADMINISTRADOR</td>\n",
       "      <td>800000,00</td>\n",
       "      <td>DEMAIS</td>\n",
       "      <td>NaN</td>\n",
       "    </tr>\n",
       "    <tr>\n",
       "      <th>4</th>\n",
       "      <td>5050</td>\n",
       "      <td>INTEGRE DO BRASIL S/A INDUSTRIA COM IMP EXP TRANSPORTES</td>\n",
       "      <td>SOCIEDADE ANÔNIMA FECHADA</td>\n",
       "      <td>PRESIDENTE</td>\n",
       "      <td>0,00</td>\n",
       "      <td>DEMAIS</td>\n",
       "      <td>NaN</td>\n",
       "    </tr>\n",
       "  </tbody>\n",
       "</table>\n",
       "</div>"
      ],
      "text/plain": [
       "   CNPJ BASICO                          RAZAO SOCIAL / NOME EMPRESARIAL  \\\n",
       "0            0                                       BANCO DO BRASIL SA   \n",
       "1          633                            INSTITUTO QUALIDADE NO ENSINO   \n",
       "2          802                                             HC PNEUS S/A   \n",
       "3         2927         TRANSMETA TRANSPORTES RODOVIARIOS DE CARGAS LTDA   \n",
       "4         5050  INTEGRE DO BRASIL S/A INDUSTRIA COM IMP EXP TRANSPORTES   \n",
       "\n",
       "               NATUREZA JURIDICA QUALIFICACAO DO SOCIO  \\\n",
       "0    SOCIEDADE DE ECONOMIA MISTA               DIRETOR   \n",
       "1             ASSOCIAÇÃO PRIVADA            PRESIDENTE   \n",
       "2      SOCIEDADE ANÔNIMA FECHADA               DIRETOR   \n",
       "3  SOCIEDADE EMPRESÁRIA LIMITADA   SÓCIO-ADMINISTRADOR   \n",
       "4      SOCIEDADE ANÔNIMA FECHADA            PRESIDENTE   \n",
       "\n",
       "  CAPITAL SOCIAL DA EMPRESA PORTE DA EMPRESA ENTE FEDERATIVO RESPONSAVEL  \n",
       "0           120000000000,00           DEMAIS                         NaN  \n",
       "1                      0,00           DEMAIS                         NaN  \n",
       "2              204418998,00           DEMAIS                         NaN  \n",
       "3                 800000,00           DEMAIS                         NaN  \n",
       "4                      0,00           DEMAIS                         NaN  "
      ]
     },
     "execution_count": 22,
     "metadata": {},
     "output_type": "execute_result"
    }
   ],
   "source": [
    "df.head(5)"
   ]
  },
  {
   "cell_type": "markdown",
   "id": "569b1d5a-d306-4fc2-ab46-9fd6e6d4d808",
   "metadata": {},
   "source": [
    "##### 🟡 ENTE FEDERATIVO RESPONSÁVEL tem nulls ...vamos olhar melhor"
   ]
  },
  {
   "cell_type": "code",
   "execution_count": 23,
   "id": "4ec4c698-586d-457e-a0c0-f9ea398983ee",
   "metadata": {},
   "outputs": [
    {
     "name": "stdout",
     "output_type": "stream",
     "text": [
      "[nan 'UNIÃO' 'PERNAMBUCO' 'RECIFE - PE' 'PIAUI' 'MARAIAL - PE'\n",
      " 'RIO GRANDE DO SUL' 'ALAGOAS']\n"
     ]
    }
   ],
   "source": [
    "valores_unicos = df['ENTE FEDERATIVO RESPONSAVEL'].unique()\n",
    "print(valores_unicos)"
   ]
  },
  {
   "cell_type": "markdown",
   "id": "ea284735-e50a-4517-9505-9005e82721c0",
   "metadata": {},
   "source": [
    "##### 🟩🟩 Verificando a quantidade de nulos por coluna (mostrando apenas as colunas com nulos)\n"
   ]
  },
  {
   "cell_type": "code",
   "execution_count": 24,
   "id": "25b58605-a277-4870-97c0-8484de30993c",
   "metadata": {},
   "outputs": [
    {
     "name": "stdout",
     "output_type": "stream",
     "text": [
      "QUALIFICACAO DO SOCIO              33\n",
      "ENTE FEDERATIVO RESPONSAVEL    532238\n",
      "dtype: int64\n"
     ]
    }
   ],
   "source": [
    "# Contar os valores nulos por coluna\n",
    "nulos_por_coluna = df.isna().sum()\n",
    "\n",
    "# Filtrar as colunas com valores nulos (maior que 0)\n",
    "colunas_com_nulos = nulos_por_coluna[nulos_por_coluna > 0]\n",
    "\n",
    "# Exibir as colunas com valores nulos\n",
    "print(colunas_com_nulos)\n",
    "\n"
   ]
  },
  {
   "cell_type": "markdown",
   "id": "08743311-1cd4-4d5d-8d5c-4b737300d85a",
   "metadata": {},
   "source": [
    "##### 🟩🟩 Verificando dados duplicados "
   ]
  },
  {
   "cell_type": "code",
   "execution_count": 25,
   "id": "692d0b7d-f061-45de-9a82-5850a1dcdd79",
   "metadata": {},
   "outputs": [
    {
     "name": "stdout",
     "output_type": "stream",
     "text": [
      "Empty DataFrame\n",
      "Columns: [CNPJ BASICO, RAZAO SOCIAL / NOME EMPRESARIAL, NATUREZA JURIDICA, QUALIFICACAO DO SOCIO, CAPITAL SOCIAL DA EMPRESA, PORTE DA EMPRESA, ENTE FEDERATIVO RESPONSAVEL]\n",
      "Index: []\n"
     ]
    }
   ],
   "source": [
    "duplicatas = df.duplicated()\n",
    "\n",
    "# Exibir as linhas duplicadas (se houver)\n",
    "print(df[duplicatas])"
   ]
  },
  {
   "cell_type": "markdown",
   "id": "80890acf-34f5-42a7-a4e2-35017bf966b1",
   "metadata": {},
   "source": [
    "##### Não há dados duplicados na tabela empresas\n"
   ]
  },
  {
   "cell_type": "markdown",
   "id": "ad9ae4ab-a9c7-4d7b-b3f5-ca86e2a87cb1",
   "metadata": {},
   "source": [
    "##### 🟩🟩 Verificando os tipos dos dados "
   ]
  },
  {
   "cell_type": "code",
   "execution_count": 26,
   "id": "ce31345e-63ab-4303-b602-75907123bf1e",
   "metadata": {},
   "outputs": [
    {
     "name": "stdout",
     "output_type": "stream",
     "text": [
      "<class 'pandas.core.frame.DataFrame'>\n",
      "RangeIndex: 532580 entries, 0 to 532579\n",
      "Data columns (total 7 columns):\n",
      " #   Column                           Non-Null Count   Dtype \n",
      "---  ------                           --------------   ----- \n",
      " 0   CNPJ BASICO                      532580 non-null  int64 \n",
      " 1   RAZAO SOCIAL / NOME EMPRESARIAL  532580 non-null  object\n",
      " 2   NATUREZA JURIDICA                532580 non-null  object\n",
      " 3   QUALIFICACAO DO SOCIO            532547 non-null  object\n",
      " 4   CAPITAL SOCIAL DA EMPRESA        532580 non-null  object\n",
      " 5   PORTE DA EMPRESA                 532580 non-null  object\n",
      " 6   ENTE FEDERATIVO RESPONSAVEL      342 non-null     object\n",
      "dtypes: int64(1), object(6)\n",
      "memory usage: 28.4+ MB\n"
     ]
    }
   ],
   "source": [
    "df.info()"
   ]
  },
  {
   "cell_type": "markdown",
   "id": "41cecc23-ac4f-4018-a16a-eb24726ed866",
   "metadata": {},
   "source": [
    "##### 🟡 Em uma analise por data type é preciso ajustar 'CNPJ BASICO' para object pois ele não possui a função de soma visto que se trata de códigos"
   ]
  },
  {
   "cell_type": "markdown",
   "id": "caa034b7-ad92-4e0d-bf77-be0ef7890e9a",
   "metadata": {},
   "source": [
    "##### 🟩🟩 Alterando Dtype para object "
   ]
  },
  {
   "cell_type": "code",
   "execution_count": 27,
   "id": "b6740db5-df6e-4c3a-9a83-8aa875bfb2e4",
   "metadata": {},
   "outputs": [
    {
     "data": {
      "text/plain": [
       "CNPJ BASICO                        object\n",
       "RAZAO SOCIAL / NOME EMPRESARIAL    object\n",
       "NATUREZA JURIDICA                  object\n",
       "QUALIFICACAO DO SOCIO              object\n",
       "CAPITAL SOCIAL DA EMPRESA          object\n",
       "PORTE DA EMPRESA                   object\n",
       "ENTE FEDERATIVO RESPONSAVEL        object\n",
       "dtype: object"
      ]
     },
     "execution_count": 27,
     "metadata": {},
     "output_type": "execute_result"
    }
   ],
   "source": [
    "conversao = ['CNPJ BASICO']\n",
    "\n",
    "# Converter as colunas específicas de 'int' para 'object'\n",
    "df[conversao] = df[conversao].astype('object')\n",
    "\n",
    "# Verificar os tipos de dados após a conversão\n",
    "df.dtypes"
   ]
  },
  {
   "cell_type": "code",
   "execution_count": 28,
   "id": "a4c36595",
   "metadata": {},
   "outputs": [],
   "source": [
    "df['CNPJ BASICO'] = df['CNPJ BASICO'].astype(str)\n",
    "\n",
    "# Adicionar zeros à esquerda para garantir 8 caracteres\n",
    "df['CNPJ BASICO'] = df['CNPJ BASICO'].str.zfill(8)"
   ]
  },
  {
   "cell_type": "code",
   "execution_count": 29,
   "id": "ee9b3815",
   "metadata": {},
   "outputs": [
    {
     "data": {
      "text/plain": [
       "0         00000000\n",
       "1         00000633\n",
       "2         00000802\n",
       "3         00002927\n",
       "4         00005050\n",
       "            ...   \n",
       "532575    13845294\n",
       "532576    13845315\n",
       "532577    13845552\n",
       "532578    13845851\n",
       "532579    13845923\n",
       "Name: CNPJ BASICO, Length: 532580, dtype: object"
      ]
     },
     "execution_count": 29,
     "metadata": {},
     "output_type": "execute_result"
    }
   ],
   "source": [
    "df['CNPJ BASICO']"
   ]
  },
  {
   "cell_type": "markdown",
   "id": "c786f9c7",
   "metadata": {},
   "source": [
    "#### Analises\n",
    "\n",
    "* QUANTIDADE DE QUALIFICAÇÃO DE SOCIO\n",
    "* QUANTIDADE DE SOCIO POR CNPJ\n",
    "* VALORES DO CAPITAL DO MAIOR AO MENOR "
   ]
  },
  {
   "cell_type": "code",
   "execution_count": 30,
   "id": "f7da324e",
   "metadata": {},
   "outputs": [
    {
     "name": "stdout",
     "output_type": "stream",
     "text": [
      "1. Quantidade de Qualificação de Sócio:\n"
     ]
    },
    {
     "data": {
      "text/html": [
       "<div>\n",
       "<style scoped>\n",
       "    .dataframe tbody tr th:only-of-type {\n",
       "        vertical-align: middle;\n",
       "    }\n",
       "\n",
       "    .dataframe tbody tr th {\n",
       "        vertical-align: top;\n",
       "    }\n",
       "\n",
       "    .dataframe thead th {\n",
       "        text-align: right;\n",
       "    }\n",
       "</style>\n",
       "<table border=\"1\" class=\"dataframe\">\n",
       "  <thead>\n",
       "    <tr style=\"text-align: right;\">\n",
       "      <th></th>\n",
       "      <th>CNPJ BASICO</th>\n",
       "      <th>QUANTIDADE_QUALIFICACOES</th>\n",
       "    </tr>\n",
       "  </thead>\n",
       "  <tbody>\n",
       "    <tr>\n",
       "      <th>0</th>\n",
       "      <td>00000000</td>\n",
       "      <td>1</td>\n",
       "    </tr>\n",
       "    <tr>\n",
       "      <th>1</th>\n",
       "      <td>00000633</td>\n",
       "      <td>1</td>\n",
       "    </tr>\n",
       "    <tr>\n",
       "      <th>2</th>\n",
       "      <td>00000802</td>\n",
       "      <td>1</td>\n",
       "    </tr>\n",
       "    <tr>\n",
       "      <th>3</th>\n",
       "      <td>00002927</td>\n",
       "      <td>1</td>\n",
       "    </tr>\n",
       "    <tr>\n",
       "      <th>4</th>\n",
       "      <td>00005050</td>\n",
       "      <td>1</td>\n",
       "    </tr>\n",
       "    <tr>\n",
       "      <th>...</th>\n",
       "      <td>...</td>\n",
       "      <td>...</td>\n",
       "    </tr>\n",
       "    <tr>\n",
       "      <th>532575</th>\n",
       "      <td>97755177</td>\n",
       "      <td>1</td>\n",
       "    </tr>\n",
       "    <tr>\n",
       "      <th>532576</th>\n",
       "      <td>98311715</td>\n",
       "      <td>1</td>\n",
       "    </tr>\n",
       "    <tr>\n",
       "      <th>532577</th>\n",
       "      <td>98406010</td>\n",
       "      <td>1</td>\n",
       "    </tr>\n",
       "    <tr>\n",
       "      <th>532578</th>\n",
       "      <td>98408073</td>\n",
       "      <td>1</td>\n",
       "    </tr>\n",
       "    <tr>\n",
       "      <th>532579</th>\n",
       "      <td>98522246</td>\n",
       "      <td>1</td>\n",
       "    </tr>\n",
       "  </tbody>\n",
       "</table>\n",
       "<p>532580 rows × 2 columns</p>\n",
       "</div>"
      ],
      "text/plain": [
       "       CNPJ BASICO  QUANTIDADE_QUALIFICACOES\n",
       "0         00000000                         1\n",
       "1         00000633                         1\n",
       "2         00000802                         1\n",
       "3         00002927                         1\n",
       "4         00005050                         1\n",
       "...            ...                       ...\n",
       "532575    97755177                         1\n",
       "532576    98311715                         1\n",
       "532577    98406010                         1\n",
       "532578    98408073                         1\n",
       "532579    98522246                         1\n",
       "\n",
       "[532580 rows x 2 columns]"
      ]
     },
     "execution_count": 30,
     "metadata": {},
     "output_type": "execute_result"
    }
   ],
   "source": [
    "# 1. QUANTIDADE DE QUALIFICAÇÃO DE SÓCIO POR CNPJ\n",
    "qualificacoes_unicas = (\n",
    "    df.groupby(\"CNPJ BASICO\")[\"QUALIFICACAO DO SOCIO\"]\n",
    "    .nunique()\n",
    "    .reset_index(name=\"QUANTIDADE_QUALIFICACOES\")\n",
    ")\n",
    "\n",
    "# Exibir os resultados\n",
    "print(\"1. Quantidade de Qualificação de Sócio:\")\n",
    "qualificacoes_unicas\n"
   ]
  },
  {
   "cell_type": "code",
   "execution_count": 31,
   "id": "0ab1caf5",
   "metadata": {},
   "outputs": [
    {
     "name": "stdout",
     "output_type": "stream",
     "text": [
      "\n",
      "2. Quantidade de Sócio por CNPJ:\n"
     ]
    },
    {
     "data": {
      "text/html": [
       "<div>\n",
       "<style scoped>\n",
       "    .dataframe tbody tr th:only-of-type {\n",
       "        vertical-align: middle;\n",
       "    }\n",
       "\n",
       "    .dataframe tbody tr th {\n",
       "        vertical-align: top;\n",
       "    }\n",
       "\n",
       "    .dataframe thead th {\n",
       "        text-align: right;\n",
       "    }\n",
       "</style>\n",
       "<table border=\"1\" class=\"dataframe\">\n",
       "  <thead>\n",
       "    <tr style=\"text-align: right;\">\n",
       "      <th></th>\n",
       "      <th>CNPJ BASICO</th>\n",
       "      <th>QUANTIDADE_SOCIOS</th>\n",
       "    </tr>\n",
       "  </thead>\n",
       "  <tbody>\n",
       "    <tr>\n",
       "      <th>0</th>\n",
       "      <td>00000000</td>\n",
       "      <td>1</td>\n",
       "    </tr>\n",
       "    <tr>\n",
       "      <th>1</th>\n",
       "      <td>00000633</td>\n",
       "      <td>1</td>\n",
       "    </tr>\n",
       "    <tr>\n",
       "      <th>2</th>\n",
       "      <td>00000802</td>\n",
       "      <td>1</td>\n",
       "    </tr>\n",
       "    <tr>\n",
       "      <th>3</th>\n",
       "      <td>00002927</td>\n",
       "      <td>1</td>\n",
       "    </tr>\n",
       "    <tr>\n",
       "      <th>4</th>\n",
       "      <td>00005050</td>\n",
       "      <td>1</td>\n",
       "    </tr>\n",
       "    <tr>\n",
       "      <th>...</th>\n",
       "      <td>...</td>\n",
       "      <td>...</td>\n",
       "    </tr>\n",
       "    <tr>\n",
       "      <th>532575</th>\n",
       "      <td>97755177</td>\n",
       "      <td>1</td>\n",
       "    </tr>\n",
       "    <tr>\n",
       "      <th>532576</th>\n",
       "      <td>98311715</td>\n",
       "      <td>1</td>\n",
       "    </tr>\n",
       "    <tr>\n",
       "      <th>532577</th>\n",
       "      <td>98406010</td>\n",
       "      <td>1</td>\n",
       "    </tr>\n",
       "    <tr>\n",
       "      <th>532578</th>\n",
       "      <td>98408073</td>\n",
       "      <td>1</td>\n",
       "    </tr>\n",
       "    <tr>\n",
       "      <th>532579</th>\n",
       "      <td>98522246</td>\n",
       "      <td>1</td>\n",
       "    </tr>\n",
       "  </tbody>\n",
       "</table>\n",
       "<p>532580 rows × 2 columns</p>\n",
       "</div>"
      ],
      "text/plain": [
       "       CNPJ BASICO  QUANTIDADE_SOCIOS\n",
       "0         00000000                  1\n",
       "1         00000633                  1\n",
       "2         00000802                  1\n",
       "3         00002927                  1\n",
       "4         00005050                  1\n",
       "...            ...                ...\n",
       "532575    97755177                  1\n",
       "532576    98311715                  1\n",
       "532577    98406010                  1\n",
       "532578    98408073                  1\n",
       "532579    98522246                  1\n",
       "\n",
       "[532580 rows x 2 columns]"
      ]
     },
     "execution_count": 31,
     "metadata": {},
     "output_type": "execute_result"
    }
   ],
   "source": [
    "# 2. QUANTIDADE DE SÓCIO POR CNPJ\n",
    "quantidade_socios = (\n",
    "    df.groupby(\"CNPJ BASICO\")\n",
    "    .size()\n",
    "    .reset_index(name=\"QUANTIDADE_SOCIOS\")\n",
    ")\n",
    "\n",
    "print(\"\\n2. Quantidade de Sócio por CNPJ:\")\n",
    "quantidade_socios\n",
    "\n"
   ]
  },
  {
   "cell_type": "code",
   "execution_count": 32,
   "id": "8d6bd950",
   "metadata": {},
   "outputs": [
    {
     "name": "stdout",
     "output_type": "stream",
     "text": [
      "Valores únicos na coluna 'QUANTIDADE_SOCIOS':\n",
      "[1]\n"
     ]
    }
   ],
   "source": [
    "# Obter os valores únicos da coluna \"QUANTIDADE_SOCIOS\"\n",
    "valores_unicos = quantidade_socios[\"QUANTIDADE_SOCIOS\"].unique()\n",
    "\n",
    "# Exibir os valores únicos\n",
    "print(\"Valores únicos na coluna 'QUANTIDADE_SOCIOS':\")\n",
    "print(valores_unicos)\n"
   ]
  },
  {
   "cell_type": "code",
   "execution_count": 33,
   "id": "55f8a234",
   "metadata": {},
   "outputs": [
    {
     "data": {
      "text/plain": [
       "QUALIFICACAO DO SOCIO\n",
       "EMPRESÁRIO                                                  325918\n",
       "SÓCIO-ADMINISTRADOR                                         157008\n",
       "PRESIDENTE                                                   13179\n",
       "CANDIDATO A CARGO POLÍTICO ELETIVO                            8139\n",
       "TITULAR DE EMPRESA INDIVIDUAL IMOBILIÁRIA                     7592\n",
       "ADMINISTRADOR                                                 6937\n",
       "TITULAR PESSOA FÍSICA RESIDENTE OU DOMICILIADO NO BRASIL      5111\n",
       "SÍNDICO (CONDOMÍNIO)                                          4741\n",
       "DIRETOR                                                       1991\n",
       "SÓCIO-GERENTE                                                  850\n",
       "ADMINISTRADOR JUDICIAL                                         618\n",
       "LIQUIDANTE                                                     117\n",
       "INVENTARIANTE                                                  109\n",
       "NÃO INFORMADA                                                   39\n",
       "TABELIÃO                                                        34\n",
       "PROCURADOR                                                      31\n",
       "RESPONSÁVEL                                                     29\n",
       "OFICIAL DE REGISTRO                                             28\n",
       "SÓCIO OSTENSIVO                                                 24\n",
       "SÓCIO CAPITALISTA                                               19\n",
       "CÔNSUL                                                           9\n",
       "SÓCIO COMANDITADO                                                9\n",
       "REPRESENTANTE DE ORGANIZAÇÃO INTERNACIONAL                       4\n",
       "CÔNSUL HONORÁRIO                                                 4\n",
       "DIPLOMATA                                                        4\n",
       "FUNDADOR                                                         2\n",
       "INTERVENTOR                                                      1\n",
       "Name: count, dtype: int64"
      ]
     },
     "execution_count": 33,
     "metadata": {},
     "output_type": "execute_result"
    }
   ],
   "source": [
    "ocorrencias = df[\"QUALIFICACAO DO SOCIO\"].value_counts()\n",
    "ocorrencias"
   ]
  },
  {
   "cell_type": "code",
   "execution_count": 34,
   "id": "0f295b33",
   "metadata": {},
   "outputs": [
    {
     "data": {
      "text/html": [
       "<div>\n",
       "<style scoped>\n",
       "    .dataframe tbody tr th:only-of-type {\n",
       "        vertical-align: middle;\n",
       "    }\n",
       "\n",
       "    .dataframe tbody tr th {\n",
       "        vertical-align: top;\n",
       "    }\n",
       "\n",
       "    .dataframe thead th {\n",
       "        text-align: right;\n",
       "    }\n",
       "</style>\n",
       "<table border=\"1\" class=\"dataframe\">\n",
       "  <thead>\n",
       "    <tr style=\"text-align: right;\">\n",
       "      <th></th>\n",
       "      <th>CNPJ BASICO</th>\n",
       "      <th>QUANTIDADE_RAZOES_SOCIAIS</th>\n",
       "    </tr>\n",
       "  </thead>\n",
       "  <tbody>\n",
       "    <tr>\n",
       "      <th>0</th>\n",
       "      <td>00000000</td>\n",
       "      <td>1</td>\n",
       "    </tr>\n",
       "    <tr>\n",
       "      <th>1</th>\n",
       "      <td>00000633</td>\n",
       "      <td>1</td>\n",
       "    </tr>\n",
       "    <tr>\n",
       "      <th>2</th>\n",
       "      <td>00000802</td>\n",
       "      <td>1</td>\n",
       "    </tr>\n",
       "    <tr>\n",
       "      <th>3</th>\n",
       "      <td>00002927</td>\n",
       "      <td>1</td>\n",
       "    </tr>\n",
       "    <tr>\n",
       "      <th>4</th>\n",
       "      <td>00005050</td>\n",
       "      <td>1</td>\n",
       "    </tr>\n",
       "    <tr>\n",
       "      <th>...</th>\n",
       "      <td>...</td>\n",
       "      <td>...</td>\n",
       "    </tr>\n",
       "    <tr>\n",
       "      <th>532575</th>\n",
       "      <td>97755177</td>\n",
       "      <td>1</td>\n",
       "    </tr>\n",
       "    <tr>\n",
       "      <th>532576</th>\n",
       "      <td>98311715</td>\n",
       "      <td>1</td>\n",
       "    </tr>\n",
       "    <tr>\n",
       "      <th>532577</th>\n",
       "      <td>98406010</td>\n",
       "      <td>1</td>\n",
       "    </tr>\n",
       "    <tr>\n",
       "      <th>532578</th>\n",
       "      <td>98408073</td>\n",
       "      <td>1</td>\n",
       "    </tr>\n",
       "    <tr>\n",
       "      <th>532579</th>\n",
       "      <td>98522246</td>\n",
       "      <td>1</td>\n",
       "    </tr>\n",
       "  </tbody>\n",
       "</table>\n",
       "<p>532580 rows × 2 columns</p>\n",
       "</div>"
      ],
      "text/plain": [
       "       CNPJ BASICO  QUANTIDADE_RAZOES_SOCIAIS\n",
       "0         00000000                          1\n",
       "1         00000633                          1\n",
       "2         00000802                          1\n",
       "3         00002927                          1\n",
       "4         00005050                          1\n",
       "...            ...                        ...\n",
       "532575    97755177                          1\n",
       "532576    98311715                          1\n",
       "532577    98406010                          1\n",
       "532578    98408073                          1\n",
       "532579    98522246                          1\n",
       "\n",
       "[532580 rows x 2 columns]"
      ]
     },
     "execution_count": 34,
     "metadata": {},
     "output_type": "execute_result"
    }
   ],
   "source": [
    "razao_social_por_cnpj = df.groupby(\"CNPJ BASICO\")[\"RAZAO SOCIAL / NOME EMPRESARIAL\"].nunique().reset_index(name=\"QUANTIDADE_RAZOES_SOCIAIS\")\n",
    "razao_social_por_cnpj"
   ]
  },
  {
   "cell_type": "code",
   "execution_count": 35,
   "id": "417e0130",
   "metadata": {},
   "outputs": [
    {
     "name": "stdout",
     "output_type": "stream",
     "text": [
      "\n",
      "3. Valores do Capital Social (Maior para Menor):\n"
     ]
    },
    {
     "data": {
      "text/html": [
       "<div>\n",
       "<style scoped>\n",
       "    .dataframe tbody tr th:only-of-type {\n",
       "        vertical-align: middle;\n",
       "    }\n",
       "\n",
       "    .dataframe tbody tr th {\n",
       "        vertical-align: top;\n",
       "    }\n",
       "\n",
       "    .dataframe thead th {\n",
       "        text-align: right;\n",
       "    }\n",
       "</style>\n",
       "<table border=\"1\" class=\"dataframe\">\n",
       "  <thead>\n",
       "    <tr style=\"text-align: right;\">\n",
       "      <th></th>\n",
       "      <th>CNPJ BASICO</th>\n",
       "      <th>CAPITAL SOCIAL DA EMPRESA</th>\n",
       "    </tr>\n",
       "  </thead>\n",
       "  <tbody>\n",
       "    <tr>\n",
       "      <th>275484</th>\n",
       "      <td>57082199</td>\n",
       "      <td>9999999,99</td>\n",
       "    </tr>\n",
       "    <tr>\n",
       "      <th>380184</th>\n",
       "      <td>37101549</td>\n",
       "      <td>99999,99</td>\n",
       "    </tr>\n",
       "    <tr>\n",
       "      <th>244239</th>\n",
       "      <td>52452731</td>\n",
       "      <td>99999,99</td>\n",
       "    </tr>\n",
       "    <tr>\n",
       "      <th>265322</th>\n",
       "      <td>55277002</td>\n",
       "      <td>99999,99</td>\n",
       "    </tr>\n",
       "    <tr>\n",
       "      <th>238232</th>\n",
       "      <td>51682216</td>\n",
       "      <td>99999,99</td>\n",
       "    </tr>\n",
       "    <tr>\n",
       "      <th>...</th>\n",
       "      <td>...</td>\n",
       "      <td>...</td>\n",
       "    </tr>\n",
       "    <tr>\n",
       "      <th>72661</th>\n",
       "      <td>08138786</td>\n",
       "      <td>0,00</td>\n",
       "    </tr>\n",
       "    <tr>\n",
       "      <th>369603</th>\n",
       "      <td>35717875</td>\n",
       "      <td>0,00</td>\n",
       "    </tr>\n",
       "    <tr>\n",
       "      <th>369602</th>\n",
       "      <td>35717867</td>\n",
       "      <td>0,00</td>\n",
       "    </tr>\n",
       "    <tr>\n",
       "      <th>32897</th>\n",
       "      <td>03452134</td>\n",
       "      <td>0,00</td>\n",
       "    </tr>\n",
       "    <tr>\n",
       "      <th>358216</th>\n",
       "      <td>35319912</td>\n",
       "      <td>0,00</td>\n",
       "    </tr>\n",
       "  </tbody>\n",
       "</table>\n",
       "<p>532580 rows × 2 columns</p>\n",
       "</div>"
      ],
      "text/plain": [
       "       CNPJ BASICO CAPITAL SOCIAL DA EMPRESA\n",
       "275484    57082199                9999999,99\n",
       "380184    37101549                  99999,99\n",
       "244239    52452731                  99999,99\n",
       "265322    55277002                  99999,99\n",
       "238232    51682216                  99999,99\n",
       "...            ...                       ...\n",
       "72661     08138786                      0,00\n",
       "369603    35717875                      0,00\n",
       "369602    35717867                      0,00\n",
       "32897     03452134                      0,00\n",
       "358216    35319912                      0,00\n",
       "\n",
       "[532580 rows x 2 columns]"
      ]
     },
     "execution_count": 35,
     "metadata": {},
     "output_type": "execute_result"
    }
   ],
   "source": [
    "\n",
    "# 3. VALORES DO CAPITAL SOCIAL (MAIOR PARA MENOR)\n",
    "capital_ordenado = (\n",
    "    df[[\"CNPJ BASICO\", \"CAPITAL SOCIAL DA EMPRESA\"]]\n",
    "    .drop_duplicates()\n",
    "    .sort_values(by=\"CAPITAL SOCIAL DA EMPRESA\", ascending=False)\n",
    ")\n",
    "\n",
    "\n",
    "print(\"\\n3. Valores do Capital Social (Maior para Menor):\")\n",
    "capital_ordenado"
   ]
  },
  {
   "cell_type": "code",
   "execution_count": 36,
   "id": "a33654a2",
   "metadata": {},
   "outputs": [
    {
     "data": {
      "text/html": [
       "<div>\n",
       "<style scoped>\n",
       "    .dataframe tbody tr th:only-of-type {\n",
       "        vertical-align: middle;\n",
       "    }\n",
       "\n",
       "    .dataframe tbody tr th {\n",
       "        vertical-align: top;\n",
       "    }\n",
       "\n",
       "    .dataframe thead th {\n",
       "        text-align: right;\n",
       "    }\n",
       "</style>\n",
       "<table border=\"1\" class=\"dataframe\">\n",
       "  <thead>\n",
       "    <tr style=\"text-align: right;\">\n",
       "      <th></th>\n",
       "      <th>CNPJ BASICO</th>\n",
       "      <th>RAZAO SOCIAL / NOME EMPRESARIAL</th>\n",
       "      <th>NATUREZA JURIDICA</th>\n",
       "      <th>QUALIFICACAO DO SOCIO</th>\n",
       "      <th>CAPITAL SOCIAL DA EMPRESA</th>\n",
       "      <th>PORTE DA EMPRESA</th>\n",
       "      <th>ENTE FEDERATIVO RESPONSAVEL</th>\n",
       "    </tr>\n",
       "  </thead>\n",
       "  <tbody>\n",
       "    <tr>\n",
       "      <th>275484</th>\n",
       "      <td>57082199</td>\n",
       "      <td>57.082.199 SARAH MAYARA DE SOUZA MARTINS</td>\n",
       "      <td>EMPRESÁRIO (INDIVIDUAL)</td>\n",
       "      <td>EMPRESÁRIO</td>\n",
       "      <td>9999999,99</td>\n",
       "      <td>MICRO EMPRESA</td>\n",
       "      <td>NaN</td>\n",
       "    </tr>\n",
       "  </tbody>\n",
       "</table>\n",
       "</div>"
      ],
      "text/plain": [
       "       CNPJ BASICO           RAZAO SOCIAL / NOME EMPRESARIAL  \\\n",
       "275484    57082199  57.082.199 SARAH MAYARA DE SOUZA MARTINS   \n",
       "\n",
       "              NATUREZA JURIDICA QUALIFICACAO DO SOCIO  \\\n",
       "275484  EMPRESÁRIO (INDIVIDUAL)            EMPRESÁRIO   \n",
       "\n",
       "       CAPITAL SOCIAL DA EMPRESA PORTE DA EMPRESA ENTE FEDERATIVO RESPONSAVEL  \n",
       "275484                9999999,99    MICRO EMPRESA                         NaN  "
      ]
     },
     "execution_count": 36,
     "metadata": {},
     "output_type": "execute_result"
    }
   ],
   "source": [
    "resultado = df[df[\"CNPJ BASICO\"] == '57082199']\n",
    "resultado"
   ]
  },
  {
   "cell_type": "markdown",
   "id": "9f166568-cdf8-48a0-ae80-d99bfec2ce39",
   "metadata": {},
   "source": [
    "##### 🟩🟩 Salvando o dataframe EMPRESAS"
   ]
  },
  {
   "cell_type": "code",
   "execution_count": 37,
   "id": "5ec7617a-155e-4156-ba95-f916dd3d198c",
   "metadata": {},
   "outputs": [],
   "source": [
    "# Pasta para salvar o arquivo\n",
    "OUTPUT_FOLDER = r'C:\\Users\\carli\\Desktop\\EmpresasAtivas\\datasets\\CSV_Tratados'\n",
    "os.makedirs(OUTPUT_FOLDER, exist_ok=True)"
   ]
  },
  {
   "cell_type": "code",
   "execution_count": 38,
   "id": "52359227-7f8c-4d15-b8e3-fb24ba4f6f93",
   "metadata": {},
   "outputs": [
    {
     "name": "stdout",
     "output_type": "stream",
     "text": [
      "Salvo com sucesso\n"
     ]
    }
   ],
   "source": [
    "# Salva o DataFrame em formato CSV com separador e controle de casas decimais\n",
    "df.to_csv('C:\\\\Users\\\\carli\\\\Desktop\\\\EmpresasAtivas\\\\datasets\\\\CSV_Tratados\\\\empresas.csv', sep=';', decimal=',', encoding='UTF-8', index=False)\n",
    "print('Salvo com sucesso')"
   ]
  }
 ],
 "metadata": {
  "kernelspec": {
   "display_name": ".venv",
   "language": "python",
   "name": "python3"
  },
  "language_info": {
   "codemirror_mode": {
    "name": "ipython",
    "version": 3
   },
   "file_extension": ".py",
   "mimetype": "text/x-python",
   "name": "python",
   "nbconvert_exporter": "python",
   "pygments_lexer": "ipython3",
   "version": "3.12.5"
  }
 },
 "nbformat": 4,
 "nbformat_minor": 5
}
