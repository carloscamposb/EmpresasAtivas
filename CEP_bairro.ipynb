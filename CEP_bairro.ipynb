{
 "cells": [
  {
   "cell_type": "code",
   "execution_count": 9,
   "metadata": {},
   "outputs": [],
   "source": [
    "import pandas as pd\n",
    "import numpy as np\n",
    "import os"
   ]
  },
  {
   "cell_type": "code",
   "execution_count": 10,
   "metadata": {},
   "outputs": [],
   "source": [
    "df_bairros = pd.read_csv('C:\\\\Users\\\\carli\\\\Desktop\\\\EmpresasAtivas\\\\datasets\\\\CSV_Separados\\\\facequadra.csv', sep=';')"
   ]
  },
  {
   "cell_type": "code",
   "execution_count": 11,
   "metadata": {},
   "outputs": [],
   "source": [
    "df_bairros=df_bairros[['cep', 'nomebairro']]"
   ]
  },
  {
   "cell_type": "code",
   "execution_count": 12,
   "metadata": {},
   "outputs": [
    {
     "data": {
      "text/html": [
       "<div>\n",
       "<style scoped>\n",
       "    .dataframe tbody tr th:only-of-type {\n",
       "        vertical-align: middle;\n",
       "    }\n",
       "\n",
       "    .dataframe tbody tr th {\n",
       "        vertical-align: top;\n",
       "    }\n",
       "\n",
       "    .dataframe thead th {\n",
       "        text-align: right;\n",
       "    }\n",
       "</style>\n",
       "<table border=\"1\" class=\"dataframe\">\n",
       "  <thead>\n",
       "    <tr style=\"text-align: right;\">\n",
       "      <th></th>\n",
       "      <th>cep</th>\n",
       "      <th>nomebairro</th>\n",
       "    </tr>\n",
       "  </thead>\n",
       "  <tbody>\n",
       "    <tr>\n",
       "      <th>0</th>\n",
       "      <td>52041080</td>\n",
       "      <td>Encruzilhada</td>\n",
       "    </tr>\n",
       "    <tr>\n",
       "      <th>1</th>\n",
       "      <td>52041070</td>\n",
       "      <td>Encruzilhada</td>\n",
       "    </tr>\n",
       "    <tr>\n",
       "      <th>2</th>\n",
       "      <td>52041017</td>\n",
       "      <td>Encruzilhada</td>\n",
       "    </tr>\n",
       "    <tr>\n",
       "      <th>3</th>\n",
       "      <td>52041095</td>\n",
       "      <td>Encruzilhada</td>\n",
       "    </tr>\n",
       "    <tr>\n",
       "      <th>4</th>\n",
       "      <td>52041017</td>\n",
       "      <td>Encruzilhada</td>\n",
       "    </tr>\n",
       "    <tr>\n",
       "      <th>...</th>\n",
       "      <td>...</td>\n",
       "      <td>...</td>\n",
       "    </tr>\n",
       "    <tr>\n",
       "      <th>54222</th>\n",
       "      <td>51130525</td>\n",
       "      <td>Boa Viagem</td>\n",
       "    </tr>\n",
       "    <tr>\n",
       "      <th>54223</th>\n",
       "      <td>50000000</td>\n",
       "      <td>Boa Viagem</td>\n",
       "    </tr>\n",
       "    <tr>\n",
       "      <th>54224</th>\n",
       "      <td>0</td>\n",
       "      <td>Boa Viagem</td>\n",
       "    </tr>\n",
       "    <tr>\n",
       "      <th>54225</th>\n",
       "      <td>0</td>\n",
       "      <td>Boa Viagem</td>\n",
       "    </tr>\n",
       "    <tr>\n",
       "      <th>54226</th>\n",
       "      <td>50000000</td>\n",
       "      <td>Boa Viagem</td>\n",
       "    </tr>\n",
       "  </tbody>\n",
       "</table>\n",
       "<p>54227 rows × 2 columns</p>\n",
       "</div>"
      ],
      "text/plain": [
       "            cep    nomebairro\n",
       "0      52041080  Encruzilhada\n",
       "1      52041070  Encruzilhada\n",
       "2      52041017  Encruzilhada\n",
       "3      52041095  Encruzilhada\n",
       "4      52041017  Encruzilhada\n",
       "...         ...           ...\n",
       "54222  51130525    Boa Viagem\n",
       "54223  50000000    Boa Viagem\n",
       "54224         0    Boa Viagem\n",
       "54225         0    Boa Viagem\n",
       "54226  50000000    Boa Viagem\n",
       "\n",
       "[54227 rows x 2 columns]"
      ]
     },
     "execution_count": 12,
     "metadata": {},
     "output_type": "execute_result"
    }
   ],
   "source": [
    "df_bairros"
   ]
  },
  {
   "cell_type": "code",
   "execution_count": 13,
   "metadata": {},
   "outputs": [
    {
     "data": {
      "text/plain": [
       "cep\n",
       "0           3650\n",
       "50000000    2997\n",
       "51020030      80\n",
       "50000999      70\n",
       "51330390      63\n",
       "            ... \n",
       "51350020       1\n",
       "50150150       1\n",
       "50110800       1\n",
       "50110727       1\n",
       "50110743       1\n",
       "Name: count, Length: 9386, dtype: int64"
      ]
     },
     "execution_count": 13,
     "metadata": {},
     "output_type": "execute_result"
    }
   ],
   "source": [
    "df_bairros['cep'].value_counts()"
   ]
  },
  {
   "cell_type": "code",
   "execution_count": 17,
   "metadata": {},
   "outputs": [
    {
     "name": "stdout",
     "output_type": "stream",
     "text": [
      "Salvo com sucesso\n"
     ]
    }
   ],
   "source": [
    "df_bairros.to_csv('C:\\\\Users\\\\carli\\\\Desktop\\\\EmpresasAtivas\\\\datasets\\\\CSV_Tratados\\\\df_bairros.csv', sep=';',encoding='UTF-8', index=False)\n",
    "print('Salvo com sucesso')"
   ]
  }
 ],
 "metadata": {
  "kernelspec": {
   "display_name": ".venv",
   "language": "python",
   "name": "python3"
  },
  "language_info": {
   "codemirror_mode": {
    "name": "ipython",
    "version": 3
   },
   "file_extension": ".py",
   "mimetype": "text/x-python",
   "name": "python",
   "nbconvert_exporter": "python",
   "pygments_lexer": "ipython3",
   "version": "3.12.5"
  }
 },
 "nbformat": 4,
 "nbformat_minor": 2
}
