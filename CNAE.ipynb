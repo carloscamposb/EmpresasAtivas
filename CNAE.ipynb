{
 "cells": [
  {
   "cell_type": "markdown",
   "id": "d3ded677-b363-4032-a126-83ff2dd4b362",
   "metadata": {},
   "source": [
    "## Análise explanatória Empresas Ativas (CNAE)"
   ]
  },
  {
   "cell_type": "markdown",
   "id": "7da5c6e6-25e0-45ec-a3d2-f93037b520b3",
   "metadata": {},
   "source": [
    "#### Realização de uma análise explanatória detalhada dos dados das empresas ativas da cidade do Recife, verificando possíveis inconsistencias ou duplicações nos registros.\n",
    "\n",
    "##### 🟩🟩 Importando Bibliotecas"
   ]
  },
  {
   "cell_type": "code",
   "execution_count": 1,
   "id": "9d4ca095-7b1b-4176-adf8-96ffc8755893",
   "metadata": {},
   "outputs": [],
   "source": [
    "import pandas as pd\n",
    "import numpy as np\n",
    "import os"
   ]
  },
  {
   "cell_type": "code",
   "execution_count": 2,
   "id": "7baded4e-c8c5-4bd0-b669-30089f8b6cfd",
   "metadata": {},
   "outputs": [
    {
     "name": "stdout",
     "output_type": "stream",
     "text": [
      "Arquivo CSV 'CNAES.csv' carregado com sucesso!\n"
     ]
    }
   ],
   "source": [
    "# Diretório onde os arquivos CSV estão localizados\n",
    "CSV_FOLDER = r'./datasets/CSV_Separados'\n",
    "\n",
    "# Nome do arquivo CSV que você quer carregar\n",
    "CSV_FILE = 'CNAES.csv'  # Substitua pelo nome do arquivo gerado\n",
    "\n",
    "# Caminho completo do arquivo CSV\n",
    "csv_path = os.path.join(CSV_FOLDER, CSV_FILE)\n",
    "\n",
    "# Verificar se o arquivo existe antes de tentar carregá-lo\n",
    "if os.path.exists(csv_path):\n",
    "    # Carregar o arquivo CSV como DataFrame\n",
    "    df = pd.read_csv(csv_path)\n",
    "    print(f\"Arquivo CSV '{CSV_FILE}' carregado com sucesso!\")\n",
    "else:\n",
    "    print(f\"Erro: O arquivo '{csv_path}' não foi encontrado.\")\n",
    "\n",
    "pd.set_option('display.max_columns', None)  # Exibe todas as colunas\n",
    "pd.set_option('display.max_colwidth', None)  # Exibe o conteúdo completo de cada célula\n",
    "pd.set_option('display.width', None)  # Ajuste de largura para evitar quebra de linha"
   ]
  },
  {
   "cell_type": "code",
   "execution_count": 3,
   "id": "15caeb18-d50a-47bf-a9ab-8103675861d2",
   "metadata": {},
   "outputs": [
    {
     "data": {
      "text/html": [
       "<div>\n",
       "<style scoped>\n",
       "    .dataframe tbody tr th:only-of-type {\n",
       "        vertical-align: middle;\n",
       "    }\n",
       "\n",
       "    .dataframe tbody tr th {\n",
       "        vertical-align: top;\n",
       "    }\n",
       "\n",
       "    .dataframe thead th {\n",
       "        text-align: right;\n",
       "    }\n",
       "</style>\n",
       "<table border=\"1\" class=\"dataframe\">\n",
       "  <thead>\n",
       "    <tr style=\"text-align: right;\">\n",
       "      <th></th>\n",
       "      <th>CODIGO</th>\n",
       "      <th>CNAE</th>\n",
       "    </tr>\n",
       "  </thead>\n",
       "  <tbody>\n",
       "    <tr>\n",
       "      <th>0</th>\n",
       "      <td>111301</td>\n",
       "      <td>Cultivo de arroz</td>\n",
       "    </tr>\n",
       "    <tr>\n",
       "      <th>1</th>\n",
       "      <td>111302</td>\n",
       "      <td>Cultivo de milho</td>\n",
       "    </tr>\n",
       "    <tr>\n",
       "      <th>2</th>\n",
       "      <td>111303</td>\n",
       "      <td>Cultivo de trigo</td>\n",
       "    </tr>\n",
       "    <tr>\n",
       "      <th>3</th>\n",
       "      <td>111399</td>\n",
       "      <td>Cultivo de outros cereais não especificados anteriormente</td>\n",
       "    </tr>\n",
       "    <tr>\n",
       "      <th>4</th>\n",
       "      <td>112101</td>\n",
       "      <td>Cultivo de algodão herbáceo</td>\n",
       "    </tr>\n",
       "  </tbody>\n",
       "</table>\n",
       "</div>"
      ],
      "text/plain": [
       "   CODIGO                                                       CNAE\n",
       "0  111301                                           Cultivo de arroz\n",
       "1  111302                                           Cultivo de milho\n",
       "2  111303                                           Cultivo de trigo\n",
       "3  111399  Cultivo de outros cereais não especificados anteriormente\n",
       "4  112101                                Cultivo de algodão herbáceo"
      ]
     },
     "execution_count": 3,
     "metadata": {},
     "output_type": "execute_result"
    }
   ],
   "source": [
    "df.head(5)"
   ]
  },
  {
   "cell_type": "markdown",
   "id": "b7088402-f4a5-4a97-9b5a-3e831917e531",
   "metadata": {},
   "source": [
    "##### 🟩🟩 Verificando a quantidade de nulos por coluna (mostrando apenas as colunas com nulos)"
   ]
  },
  {
   "cell_type": "code",
   "execution_count": 4,
   "id": "5843a484-c38b-4155-9049-4219644ac7d6",
   "metadata": {},
   "outputs": [
    {
     "name": "stdout",
     "output_type": "stream",
     "text": [
      "Series([], dtype: int64)\n"
     ]
    }
   ],
   "source": [
    "# Contar os valores nulos por coluna\n",
    "nulos_por_coluna = df.isna().sum()\n",
    "\n",
    "# Filtrar as colunas com valores nulos (maior que 0)\n",
    "colunas_com_nulos = nulos_por_coluna[nulos_por_coluna > 0]\n",
    "\n",
    "# Exibir as colunas com valores nulos\n",
    "print(colunas_com_nulos)"
   ]
  },
  {
   "cell_type": "markdown",
   "id": "91df19e4-9d34-4658-8740-c5a7598e5b8c",
   "metadata": {},
   "source": [
    "##### 🟡 Não há valores Nulos "
   ]
  },
  {
   "cell_type": "markdown",
   "id": "08743311-1cd4-4d5d-8d5c-4b737300d85a",
   "metadata": {},
   "source": [
    "##### 🟩🟩 Verificando dados duplicados "
   ]
  },
  {
   "cell_type": "code",
   "execution_count": 5,
   "id": "692d0b7d-f061-45de-9a82-5850a1dcdd79",
   "metadata": {},
   "outputs": [
    {
     "name": "stdout",
     "output_type": "stream",
     "text": [
      "Empty DataFrame\n",
      "Columns: [CODIGO, CNAE]\n",
      "Index: []\n"
     ]
    }
   ],
   "source": [
    "duplicatas = df.duplicated()\n",
    "\n",
    "# Exibir as linhas duplicadas (se houver)\n",
    "print(df[duplicatas])"
   ]
  },
  {
   "cell_type": "markdown",
   "id": "80890acf-34f5-42a7-a4e2-35017bf966b1",
   "metadata": {},
   "source": [
    "##### Não há dados duplicados na tabela CNAE"
   ]
  },
  {
   "cell_type": "markdown",
   "id": "ad9ae4ab-a9c7-4d7b-b3f5-ca86e2a87cb1",
   "metadata": {},
   "source": [
    "##### 🟩🟩 Verificando os tipos dos dados "
   ]
  },
  {
   "cell_type": "code",
   "execution_count": 6,
   "id": "ce31345e-63ab-4303-b602-75907123bf1e",
   "metadata": {},
   "outputs": [
    {
     "name": "stdout",
     "output_type": "stream",
     "text": [
      "<class 'pandas.core.frame.DataFrame'>\n",
      "RangeIndex: 1359 entries, 0 to 1358\n",
      "Data columns (total 2 columns):\n",
      " #   Column  Non-Null Count  Dtype \n",
      "---  ------  --------------  ----- \n",
      " 0   CODIGO  1359 non-null   int64 \n",
      " 1   CNAE    1359 non-null   object\n",
      "dtypes: int64(1), object(1)\n",
      "memory usage: 21.4+ KB\n"
     ]
    }
   ],
   "source": [
    "df.info()"
   ]
  },
  {
   "cell_type": "markdown",
   "id": "41cecc23-ac4f-4018-a16a-eb24726ed866",
   "metadata": {},
   "source": [
    "##### 🟡 Em uma analise por data type é preciso ajustar ' CODIGO' para object pois eles não possuem a função de soma visto que se trata de códigos"
   ]
  },
  {
   "cell_type": "markdown",
   "id": "caa034b7-ad92-4e0d-bf77-be0ef7890e9a",
   "metadata": {},
   "source": [
    "##### 🟩🟩 Alterando Dtype para object "
   ]
  },
  {
   "cell_type": "code",
   "execution_count": 7,
   "id": "b6740db5-df6e-4c3a-9a83-8aa875bfb2e4",
   "metadata": {},
   "outputs": [
    {
     "data": {
      "text/plain": [
       "CODIGO    object\n",
       "CNAE      object\n",
       "dtype: object"
      ]
     },
     "execution_count": 7,
     "metadata": {},
     "output_type": "execute_result"
    }
   ],
   "source": [
    "conversao = ['CODIGO']\n",
    "\n",
    "# Converter as colunas específicas de 'int' para 'object'\n",
    "df[conversao] = df[conversao].astype('object')\n",
    "\n",
    "# Verificar os tipos de df após a conversão\n",
    "df.dtypes"
   ]
  },
  {
   "cell_type": "markdown",
   "id": "fc56ddb1",
   "metadata": {},
   "source": [
    "##### Analises"
   ]
  },
  {
   "cell_type": "markdown",
   "id": "3862e785",
   "metadata": {},
   "source": [
    "* QUANTIDADE DE CNAE\n",
    "* QUANTIDADE DE ATIVIDADES\n",
    "* QUANTIDADE DE CNAE POR ATIVIDADE"
   ]
  },
  {
   "cell_type": "code",
   "execution_count": 8,
   "id": "300f2e8d",
   "metadata": {},
   "outputs": [
    {
     "data": {
      "text/plain": [
       "1359"
      ]
     },
     "execution_count": 8,
     "metadata": {},
     "output_type": "execute_result"
    }
   ],
   "source": [
    "qtd_codigos = df['CODIGO'].nunique()\n",
    "qtd_codigos"
   ]
  },
  {
   "cell_type": "code",
   "execution_count": 9,
   "id": "bb1d961d",
   "metadata": {},
   "outputs": [
    {
     "data": {
      "text/plain": [
       "1355"
      ]
     },
     "execution_count": 9,
     "metadata": {},
     "output_type": "execute_result"
    }
   ],
   "source": [
    "qtd_atividades = df['CNAE'].nunique()\n",
    "qtd_atividades"
   ]
  },
  {
   "cell_type": "code",
   "execution_count": 10,
   "id": "d4c3b5f5",
   "metadata": {},
   "outputs": [
    {
     "data": {
      "text/html": [
       "<div>\n",
       "<style scoped>\n",
       "    .dataframe tbody tr th:only-of-type {\n",
       "        vertical-align: middle;\n",
       "    }\n",
       "\n",
       "    .dataframe tbody tr th {\n",
       "        vertical-align: top;\n",
       "    }\n",
       "\n",
       "    .dataframe thead th {\n",
       "        text-align: right;\n",
       "    }\n",
       "</style>\n",
       "<table border=\"1\" class=\"dataframe\">\n",
       "  <thead>\n",
       "    <tr style=\"text-align: right;\">\n",
       "      <th></th>\n",
       "      <th>CODIGO</th>\n",
       "      <th>CNAE</th>\n",
       "    </tr>\n",
       "  </thead>\n",
       "  <tbody>\n",
       "    <tr>\n",
       "      <th>1343</th>\n",
       "      <td>9603302</td>\n",
       "      <td>1</td>\n",
       "    </tr>\n",
       "    <tr>\n",
       "      <th>1342</th>\n",
       "      <td>9603301</td>\n",
       "      <td>1</td>\n",
       "    </tr>\n",
       "    <tr>\n",
       "      <th>1341</th>\n",
       "      <td>9602502</td>\n",
       "      <td>1</td>\n",
       "    </tr>\n",
       "    <tr>\n",
       "      <th>1340</th>\n",
       "      <td>9602501</td>\n",
       "      <td>1</td>\n",
       "    </tr>\n",
       "    <tr>\n",
       "      <th>1339</th>\n",
       "      <td>9601703</td>\n",
       "      <td>1</td>\n",
       "    </tr>\n",
       "    <tr>\n",
       "      <th>...</th>\n",
       "      <td>...</td>\n",
       "      <td>...</td>\n",
       "    </tr>\n",
       "    <tr>\n",
       "      <th>1355</th>\n",
       "      <td>9609208</td>\n",
       "      <td>1</td>\n",
       "    </tr>\n",
       "    <tr>\n",
       "      <th>1356</th>\n",
       "      <td>9609299</td>\n",
       "      <td>1</td>\n",
       "    </tr>\n",
       "    <tr>\n",
       "      <th>1357</th>\n",
       "      <td>9700500</td>\n",
       "      <td>1</td>\n",
       "    </tr>\n",
       "    <tr>\n",
       "      <th>1358</th>\n",
       "      <td>9900800</td>\n",
       "      <td>1</td>\n",
       "    </tr>\n",
       "    <tr>\n",
       "      <th>0</th>\n",
       "      <td>111301</td>\n",
       "      <td>1</td>\n",
       "    </tr>\n",
       "  </tbody>\n",
       "</table>\n",
       "<p>1359 rows × 2 columns</p>\n",
       "</div>"
      ],
      "text/plain": [
       "       CODIGO  CNAE\n",
       "1343  9603302     1\n",
       "1342  9603301     1\n",
       "1341  9602502     1\n",
       "1340  9602501     1\n",
       "1339  9601703     1\n",
       "...       ...   ...\n",
       "1355  9609208     1\n",
       "1356  9609299     1\n",
       "1357  9700500     1\n",
       "1358  9900800     1\n",
       "0      111301     1\n",
       "\n",
       "[1359 rows x 2 columns]"
      ]
     },
     "execution_count": 10,
     "metadata": {},
     "output_type": "execute_result"
    }
   ],
   "source": [
    "atividades_por_codigo = df.groupby('CODIGO')['CNAE'].nunique().reset_index()\n",
    "atividades_por_codigo = atividades_por_codigo.sort_values(by='CNAE', ascending=True)\n",
    "atividades_por_codigo"
   ]
  },
  {
   "cell_type": "code",
   "execution_count": 11,
   "id": "95c761e9",
   "metadata": {},
   "outputs": [
    {
     "name": "stdout",
     "output_type": "stream",
     "text": [
      "Códigos sem cnaes:\n",
      "Empty DataFrame\n",
      "Columns: [CODIGO, CNAE]\n",
      "Index: []\n",
      "\n",
      "Códigos com a mesma cnae:\n",
      "       CODIGO  CNAE\n",
      "0      111301     1\n",
      "1      111302     1\n",
      "2      111303     1\n",
      "3      111399     1\n",
      "4      112101     1\n",
      "...       ...   ...\n",
      "1354  9609207     1\n",
      "1355  9609208     1\n",
      "1356  9609299     1\n",
      "1357  9700500     1\n",
      "1358  9900800     1\n",
      "\n",
      "[1359 rows x 2 columns]\n"
     ]
    }
   ],
   "source": [
    "# Contar a quantidade de atividades únicas por código\n",
    "cnaes_por_codigo = df.groupby('CODIGO')['CNAE'].nunique().reset_index()\n",
    "\n",
    "# Encontrar códigos sem cnaes (quantidade de cnaes = 0)\n",
    "codigos_sem_cnae = cnaes_por_codigo[cnaes_por_codigo['CNAE'] ==0]\n",
    "\n",
    "# Encontrar códigos com a mesma cnae (quantidade de cnaes = 1)\n",
    "codigos_com_mesma_cnae = cnaes_por_codigo[cnaes_por_codigo['CNAE'] == 1]\n",
    "\n",
    "# Exibir resultados\n",
    "print(f\"Códigos sem cnaes:\\n{codigos_sem_cnae}\")\n",
    "print(f\"\\nCódigos com a mesma cnae:\\n{codigos_com_mesma_cnae}\")"
   ]
  },
  {
   "cell_type": "markdown",
   "id": "9f166568-cdf8-48a0-ae80-d99bfec2ce39",
   "metadata": {},
   "source": [
    "##### 🟩🟩 Salvando o dataframe CNAE"
   ]
  },
  {
   "cell_type": "code",
   "execution_count": 12,
   "id": "5ec7617a-155e-4156-ba95-f916dd3d198c",
   "metadata": {},
   "outputs": [],
   "source": [
    "# Pasta para salvar o arquivo\n",
    "OUTPUT_FOLDER = r'C:\\Users\\carli\\Desktop\\EmpresasAtivas\\datasets\\CSV_Tratados'\n",
    "os.makedirs(OUTPUT_FOLDER, exist_ok=True)"
   ]
  },
  {
   "cell_type": "code",
   "execution_count": 13,
   "id": "52359227-7f8c-4d15-b8e3-fb24ba4f6f93",
   "metadata": {},
   "outputs": [
    {
     "name": "stdout",
     "output_type": "stream",
     "text": [
      "Salvo com sucesso\n"
     ]
    }
   ],
   "source": [
    "# Salva o DataFrame em formato CSV com separador e controle de casas decimais\n",
    "df.to_csv('C:\\\\Users\\\\carli\\\\Desktop\\\\EmpresasAtivas\\\\datasets\\\\CSV_Tratados\\\\cnae.csv', sep=';', decimal=',', encoding='UTF-8')\n",
    "print('Salvo com sucesso')"
   ]
  }
 ],
 "metadata": {
  "kernelspec": {
   "display_name": ".venv",
   "language": "python",
   "name": "python3"
  },
  "language_info": {
   "codemirror_mode": {
    "name": "ipython",
    "version": 3
   },
   "file_extension": ".py",
   "mimetype": "text/x-python",
   "name": "python",
   "nbconvert_exporter": "python",
   "pygments_lexer": "ipython3",
   "version": "3.12.5"
  }
 },
 "nbformat": 4,
 "nbformat_minor": 5
}
