{
 "cells": [
  {
   "cell_type": "markdown",
   "id": "d3ded677-b363-4032-a126-83ff2dd4b362",
   "metadata": {},
   "source": [
    "## Download de arquivos "
   ]
  },
  {
   "cell_type": "markdown",
   "id": "7da5c6e6-25e0-45ec-a3d2-f93037b520b3",
   "metadata": {},
   "source": [
    "#### Realização do download de arquivo EmpresasAtivas.xlsx e separação das abas em arquivos csv\n",
    "##### 🟩🟩 Importando Bibliotecas"
   ]
  },
  {
   "cell_type": "code",
   "execution_count": 6,
   "id": "9d4ca095-7b1b-4176-adf8-96ffc8755893",
   "metadata": {},
   "outputs": [],
   "source": [
    "import pandas as pd\n",
    "import numpy as np\n",
    "import gdown\n",
    "import os\n",
    "\n",
    "\n"
   ]
  },
  {
   "cell_type": "markdown",
   "id": "d6b3a134",
   "metadata": {},
   "source": [
    "#### 🟩🟩 Chamando o arquivo"
   ]
  },
  {
   "cell_type": "code",
   "execution_count": 7,
   "id": "7baded4e-c8c5-4bd0-b669-30089f8b6cfd",
   "metadata": {},
   "outputs": [
    {
     "name": "stderr",
     "output_type": "stream",
     "text": [
      "Downloading...\n",
      "From (original): https://drive.google.com/uc?id=1T5Dsh4MGd0aQv9Hp_VFu3ak8izovAej2\n",
      "From (redirected): https://drive.google.com/uc?id=1T5Dsh4MGd0aQv9Hp_VFu3ak8izovAej2&confirm=t&uuid=b8c85646-9713-4b49-9e64-c14c53103be0\n",
      "To: C:\\Users\\carli\\Desktop\\EmpresasAtivas\\datasets\\EmpresasAtivas.xlsx\n",
      "100%|██████████| 123M/123M [00:04<00:00, 29.9MB/s] \n"
     ]
    },
    {
     "name": "stdout",
     "output_type": "stream",
     "text": [
      "Arquivo salvo em: C:\\Users\\carli\\Desktop\\EmpresasAtivas\\datasets\\EmpresasAtivas.xlsx\n"
     ]
    }
   ],
   "source": [
    "# ID do documento do drive\n",
    "FILE_ID = \"1T5Dsh4MGd0aQv9Hp_VFu3ak8izovAej2\"\n",
    "OUTPUT_PATH = r'C:\\Users\\carli\\Desktop\\EmpresasAtivas\\datasets\\EmpresasAtivas.xlsx'\n",
    "\n",
    "# Pasta para salvar os arquivos CSV\n",
    "OUTPUT_FOLDER = r'C:\\Users\\carli\\Desktop\\EmpresasAtivas\\datasets'\n",
    "\n",
    "# Criando a pasta de saída, se não existir\n",
    "os.makedirs(OUTPUT_FOLDER, exist_ok=True)\n",
    "\n",
    "# URL do Google Drive com o ID \n",
    "GDRIVE_URL = f\"https://drive.google.com/uc?id={FILE_ID}\"\n",
    "\n",
    "# Baixando o arquivo\n",
    "try:\n",
    "    gdown.download(GDRIVE_URL, OUTPUT_PATH, quiet=False)\n",
    "    print(f\"Arquivo salvo em: {OUTPUT_PATH}\")\n",
    "except Exception as e:\n",
    "    print(f\"Erro ao baixar o arquivo: {e}\")\n"
   ]
  },
  {
   "cell_type": "markdown",
   "id": "25661d1e",
   "metadata": {},
   "source": [
    "##### 🟩🟩 Dividindo o arquivo EmpresasAtivas.xlsx em múltiplos arquivos csv"
   ]
  },
  {
   "cell_type": "code",
   "execution_count": 8,
   "id": "35cdc6bd",
   "metadata": {},
   "outputs": [
    {
     "name": "stdout",
     "output_type": "stream",
     "text": [
      "Carregando o arquivo Excel...\n",
      "Arquivo carregado com sucesso! Abas encontradas: ['ESTABELECIMENTOS', 'EMPRESAS', 'SOCIOS', 'CNAES', 'SIMPLES']\n",
      "Iniciando a separação das abas em arquivos CSV...\n",
      "Aba 'ESTABELECIMENTOS' salva como CSV: C:\\Users\\carli\\Desktop\\EmpresasAtivas\\datasets\\CSV_Separados\\ESTABELECIMENTOS.csv\n",
      "Aba 'EMPRESAS' salva como CSV: C:\\Users\\carli\\Desktop\\EmpresasAtivas\\datasets\\CSV_Separados\\EMPRESAS.csv\n",
      "Aba 'SOCIOS' salva como CSV: C:\\Users\\carli\\Desktop\\EmpresasAtivas\\datasets\\CSV_Separados\\SOCIOS.csv\n",
      "Aba 'CNAES' salva como CSV: C:\\Users\\carli\\Desktop\\EmpresasAtivas\\datasets\\CSV_Separados\\CNAES.csv\n",
      "Aba 'SIMPLES' salva como CSV: C:\\Users\\carli\\Desktop\\EmpresasAtivas\\datasets\\CSV_Separados\\SIMPLES.csv\n",
      "Processo concluído! Todas as abas foram processadas.\n"
     ]
    }
   ],
   "source": [
    "import pandas as pd\n",
    "import os\n",
    "\n",
    "# Caminho do arquivo Excel com várias abas\n",
    "INPUT_PATH = r'C:\\Users\\carli\\Desktop\\EmpresasAtivas\\datasets\\EmpresasAtivas.xlsx'\n",
    "\n",
    "# Pasta para salvar os arquivos CSV\n",
    "OUTPUT_FOLDER = r'C:\\Users\\carli\\Desktop\\EmpresasAtivas\\datasets\\CSV_Separados'\n",
    "\n",
    "# Verificando se o arquivo Excel existe\n",
    "if not os.path.exists(INPUT_PATH):\n",
    "    print(f\"Erro: O arquivo Excel '{INPUT_PATH}' não foi encontrado.\")\n",
    "    exit()\n",
    "\n",
    "# Criando a pasta de saída, se não existir\n",
    "os.makedirs(OUTPUT_FOLDER, exist_ok=True)\n",
    "\n",
    "try:\n",
    "    # Lendo todas as abas do arquivo Excel\n",
    "    print(\"Carregando o arquivo Excel...\")\n",
    "    excel_data = pd.read_excel(INPUT_PATH, sheet_name=None)  # `sheet_name=None` carrega todas as abas\n",
    "    print(f\"Arquivo carregado com sucesso! Abas encontradas: {list(excel_data.keys())}\")\n",
    "except Exception as e:\n",
    "    print(f\"Erro ao carregar o arquivo Excel: {e}\")\n",
    "    exit()\n",
    "\n",
    "# Salvando cada aba como um arquivo CSV separado\n",
    "print(\"Iniciando a separação das abas em arquivos CSV...\")\n",
    "for sheet_name, data in excel_data.items():\n",
    "    try:\n",
    "        # Nome do arquivo CSV baseado no nome da aba\n",
    "        output_file = os.path.join(OUTPUT_FOLDER, f\"{sheet_name}.csv\")\n",
    "        \n",
    "        # Salvando a aba como CSV com separador ';' e decimal ','\n",
    "        data.to_csv(output_file, index=False, encoding='utf-8')\n",
    "        print(f\"Aba '{sheet_name}' salva como CSV: {output_file}\")\n",
    "    except Exception as e:\n",
    "        print(f\"Erro ao salvar a aba '{sheet_name}' como CSV: {e}\")\n",
    "\n",
    "print(\"Processo concluído! Todas as abas foram processadas.\")\n",
    "\n",
    "\n"
   ]
  }
 ],
 "metadata": {
  "kernelspec": {
   "display_name": ".venv",
   "language": "python",
   "name": "python3"
  },
  "language_info": {
   "codemirror_mode": {
    "name": "ipython",
    "version": 3
   },
   "file_extension": ".py",
   "mimetype": "text/x-python",
   "name": "python",
   "nbconvert_exporter": "python",
   "pygments_lexer": "ipython3",
   "version": "3.12.5"
  }
 },
 "nbformat": 4,
 "nbformat_minor": 5
}
